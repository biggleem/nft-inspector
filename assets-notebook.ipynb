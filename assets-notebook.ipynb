{
 "cells": [
  {
   "cell_type": "code",
   "execution_count": 4,
   "metadata": {},
   "outputs": [],
   "source": [
    "import requests"
   ]
  },
  {
   "cell_type": "code",
   "execution_count": 8,
   "metadata": {},
   "outputs": [],
   "source": [
    "params = {\n",
    "    'collection': 'the-wanderers',\n",
    "    'limit': 1\n",
    "}"
   ]
  },
  {
   "cell_type": "code",
   "execution_count": 9,
   "metadata": {},
   "outputs": [
    {
     "name": "stdout",
     "output_type": "stream",
     "text": [
      "{'assets': [{'id': 37256563, 'token_id': '8861', 'num_sales': 2, 'background_color': None, 'image_url': 'https://storage.opensea.io/files/8ac74198c1fb0c70fabeadfd9a4a3c4c.mp4', 'image_preview_url': 'https://storage.opensea.io/files/8ac74198c1fb0c70fabeadfd9a4a3c4c.mp4', 'image_thumbnail_url': 'https://storage.opensea.io/files/8ac74198c1fb0c70fabeadfd9a4a3c4c.mp4', 'image_original_url': 'https://ipfs.io/ipfs/QmWeXmth66wkCT5RYeBG9p1mnHgzAkTxoAtBdPy3CzE6o8/8861.mp4', 'animation_url': 'https://storage.opensea.io/files/8ac74198c1fb0c70fabeadfd9a4a3c4c.mp4', 'animation_original_url': 'https://ipfs.io/ipfs/QmWeXmth66wkCT5RYeBG9p1mnHgzAkTxoAtBdPy3CzE6o8/8861.mp4', 'name': None, 'description': None, 'external_link': None, 'asset_contract': {'address': '0x8184a482a5038b124d933b779e0ea6e0fb72f54e', 'asset_contract_type': 'non-fungible', 'created_date': '2021-08-12T23:28:40.010736', 'name': 'Wanderers', 'nft_version': '3.0', 'opensea_version': None, 'owner': 61494495, 'schema_name': 'ERC721', 'symbol': 'WANDERER', 'total_supply': '0', 'description': 'Suit up, strap in, soar off. Your galactic odyssey awaits.\\n\\nFREE planets coming soon for ALL Wanderers\\n\\n⠀👾⠀ http://wanderers.ai \\n⠀👽⠀ http://discord.gg/wanderers \\n⠀📡⠀ http://youtu.be/InHaT6_jXPc', 'external_link': 'http://wanderers.ai', 'image_url': 'https://lh3.googleusercontent.com/eb4sx9jFK9EXFjdU5JzwesKvK8wNxHC1hRn5OZ-a08X-U6pglqGHvzlqPDlzTepp7DiBURY-gIfVkNNHjBukKpWO3LNf8lFe62fiLvg=s120', 'default_to_fiat': False, 'dev_buyer_fee_basis_points': 0, 'dev_seller_fee_basis_points': 500, 'only_proxied_transfers': False, 'opensea_buyer_fee_basis_points': 0, 'opensea_seller_fee_basis_points': 250, 'buyer_fee_basis_points': 0, 'seller_fee_basis_points': 750, 'payout_address': '0x2780be80ba18d0c27540b9cd75e3c49a58c33229'}, 'permalink': 'https://opensea.io/assets/0x8184a482a5038b124d933b779e0ea6e0fb72f54e/8861', 'collection': {'banner_image_url': 'https://lh3.googleusercontent.com/mkYspplqU22iRnehSir7JnX7SdFtCPOwbYwe1LFnTWKPb10dBZojak6WD4f-vP7pGntTB4I4XP4gh2vfG-Ki0mpKnqW4iV_0CvgHKg=s2500', 'chat_url': None, 'created_date': '2021-08-12T23:41:32.147876', 'default_to_fiat': False, 'description': 'Suit up, strap in, soar off. Your galactic odyssey awaits.\\n\\nFREE planets coming soon for ALL Wanderers\\n\\n⠀👾⠀ http://wanderers.ai \\n⠀👽⠀ http://discord.gg/wanderers \\n⠀📡⠀ http://youtu.be/InHaT6_jXPc', 'dev_buyer_fee_basis_points': '0', 'dev_seller_fee_basis_points': '500', 'discord_url': 'https://discord.gg/SMfCAXUdww', 'display_data': {'card_display_style': 'cover'}, 'external_url': 'http://wanderers.ai', 'featured': False, 'featured_image_url': 'https://lh3.googleusercontent.com/4BXwTFr23WumgcKlS53niAKMgc7Jz8x2R4annTLxGa65EVc7ySkrFfnoyRD-SHFU--_SQ24nPnvsrUHBlvZndCLVR4B5gFlls5Dx=s300', 'hidden': False, 'safelist_request_status': 'verified', 'image_url': 'https://lh3.googleusercontent.com/eb4sx9jFK9EXFjdU5JzwesKvK8wNxHC1hRn5OZ-a08X-U6pglqGHvzlqPDlzTepp7DiBURY-gIfVkNNHjBukKpWO3LNf8lFe62fiLvg=s120', 'is_subject_to_whitelist': False, 'large_image_url': 'https://lh3.googleusercontent.com/4BXwTFr23WumgcKlS53niAKMgc7Jz8x2R4annTLxGa65EVc7ySkrFfnoyRD-SHFU--_SQ24nPnvsrUHBlvZndCLVR4B5gFlls5Dx=s300', 'medium_username': None, 'name': 'The Wanderers', 'only_proxied_transfers': False, 'opensea_buyer_fee_basis_points': '0', 'opensea_seller_fee_basis_points': '250', 'payout_address': '0x2780be80ba18d0c27540b9cd75e3c49a58c33229', 'require_email': False, 'short_description': None, 'slug': 'the-wanderers', 'telegram_url': None, 'twitter_username': 'wanderers_nft', 'instagram_username': None, 'wiki_url': None}, 'decimals': 0, 'token_metadata': 'https://ipfs.io/ipfs/QmNnWrwfAbsnWvyTgGpaYLdh1oAkBR5B74MjwZh8stTL97/8861', 'owner': {'user': {'username': 'mckaywrigley'}, 'profile_img_url': 'https://storage.googleapis.com/opensea-static/opensea-profile/2.png', 'address': '0x47299cbc829b027e409081e0013a2f697d2129de', 'config': ''}, 'sell_orders': None, 'creator': {'user': None, 'profile_img_url': 'https://storage.googleapis.com/opensea-static/opensea-profile/11.png', 'address': '0xf8256ad6addb0e7a956cf61d14e5d53c78e65621', 'config': ''}, 'traits': [{'trait_type': 'Celestial Body', 'value': 'Green Stars', 'display_type': None, 'max_value': None, 'trait_count': 1524, 'order': None}, {'trait_type': 'Celestial Body', 'value': 'Blue Stars', 'display_type': None, 'max_value': None, 'trait_count': 1511, 'order': None}, {'trait_type': 'Window', 'value': 'White', 'display_type': None, 'max_value': None, 'trait_count': 766, 'order': None}, {'trait_type': 'Music', 'value': 'Cosmic Drifter', 'display_type': None, 'max_value': None, 'trait_count': 1097, 'order': None}, {'trait_type': 'Left Arm', 'value': 'Treasure', 'display_type': None, 'max_value': None, 'trait_count': 338, 'order': None}, {'trait_type': 'Cockpit', 'value': 'Chart', 'display_type': None, 'max_value': None, 'trait_count': 702, 'order': None}, {'trait_type': 'Anomaly', 'value': 'Pink Wormhole', 'display_type': None, 'max_value': None, 'trait_count': 255, 'order': None}, {'trait_type': 'Right Arm', 'value': 'Handcrank', 'display_type': None, 'max_value': None, 'trait_count': 327, 'order': None}, {'trait_type': 'Panel 4', 'value': 'Heart', 'display_type': None, 'max_value': None, 'trait_count': 133, 'order': None}, {'trait_type': 'Planet', 'value': 'Large Blue (bottom)', 'display_type': None, 'max_value': None, 'trait_count': 273, 'order': None}, {'trait_type': 'Panel 5', 'value': 'Mosaic', 'display_type': None, 'max_value': None, 'trait_count': 121, 'order': None}, {'trait_type': 'Panel 2', 'value': 'Code', 'display_type': None, 'max_value': None, 'trait_count': 117, 'order': None}], 'last_sale': {'asset': {'token_id': '8861', 'decimals': 0}, 'asset_bundle': None, 'event_type': 'successful', 'event_timestamp': '2021-09-28T07:23:05', 'auction_type': None, 'total_price': '699000000000000000', 'payment_token': {'id': 1, 'symbol': 'ETH', 'address': '0x0000000000000000000000000000000000000000', 'image_url': 'https://storage.opensea.io/files/6f8e2979d428180222796ff4a33ab929.svg', 'name': 'Ether', 'decimals': 18, 'eth_price': '1.000000000000000', 'usd_price': '3735.139999999999873000'}, 'transaction': {'block_hash': '0x4e5f2f65cb6a80c53c8fc9b3810cf095fada2f468729d024028b92b12fc79ad9', 'block_number': '13312934', 'from_account': {'user': {'username': 'mckaywrigley'}, 'profile_img_url': 'https://storage.googleapis.com/opensea-static/opensea-profile/2.png', 'address': '0x47299cbc829b027e409081e0013a2f697d2129de', 'config': ''}, 'id': 172160302, 'timestamp': '2021-09-28T07:23:05', 'to_account': {'user': {'username': 'OpenSea-Orders'}, 'profile_img_url': 'https://storage.googleapis.com/opensea-static/opensea-profile/22.png', 'address': '0x7be8076f4ea4a4ad08075c2508e481d6c946d12b', 'config': 'verified'}, 'transaction_hash': '0x96cf83567bf2f0b7b0874f385b4d2fabe1e6d3524a306dda9aefc547d326bb36', 'transaction_index': '298'}, 'created_date': '2021-09-28T07:23:53.348759', 'quantity': '1'}, 'top_bid': None, 'listing_date': None, 'is_presale': False, 'transfer_fee_payment_token': None, 'transfer_fee': None}]}\n"
     ]
    }
   ],
   "source": [
    "r = requests.get(\"https://api.opensea.io/api/v1/assets\", params=params)\n",
    "print(r.json())"
   ]
  }
 ],
 "metadata": {
  "interpreter": {
   "hash": "9e8e564d3023887e5de2ee15bad9f592e6dc0ba302d4d9eaf5f4393a088ffc35"
  },
  "kernelspec": {
   "display_name": "Python 3.8.8 64-bit ('base': conda)",
   "name": "python3"
  },
  "language_info": {
   "codemirror_mode": {
    "name": "ipython",
    "version": 3
   },
   "file_extension": ".py",
   "mimetype": "text/x-python",
   "name": "python",
   "nbconvert_exporter": "python",
   "pygments_lexer": "ipython3",
   "version": "3.8.12"
  },
  "orig_nbformat": 4
 },
 "nbformat": 4,
 "nbformat_minor": 2
}
